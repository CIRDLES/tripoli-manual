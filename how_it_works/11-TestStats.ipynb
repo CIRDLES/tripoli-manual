{
 "cells": [
  {
   "cell_type": "markdown",
   "metadata": {},
   "source": [
    "---\n",
    "title: Trial Jupyter Notebook\n",
    "subject: How It Works\n",
    "subtitle: \n",
    "short_title: \n",
    "authors:\n",
    "  - name: Noah McLean\n",
    "    affiliation:\n",
    "      - University of Kansas\n",
    "    orcid: 0000-0003-0388-1862\n",
    "    email: noahmc@ku.edu\n",
    "date: May 15, 2024\n",
    "license: CC-BY-4.0\n",
    "---"
   ]
  },
  {
   "cell_type": "code",
   "execution_count": null,
   "metadata": {},
   "outputs": [
    {
     "ename": "",
     "evalue": "",
     "output_type": "error",
     "traceback": [
      "\u001b[1;31mRunning cells with 'Python 3.12.3' requires the ipykernel package.\n",
      "\u001b[1;31mRun the following command to install 'ipykernel' into the Python environment. \n",
      "\u001b[1;31mCommand: '/usr/local/bin/python3 -m pip install ipykernel -U --user --force-reinstall'"
     ]
    }
   ],
   "source": [
    "import numpy as np\n",
    "\n",
    "random_number = np.random.randint(0, 10)\n",
    "print(random_number)"
   ]
  },
  {
   "cell_type": "markdown",
   "metadata": {},
   "source": []
  }
 ],
 "metadata": {
  "kernelspec": {
   "display_name": "Python 3",
   "language": "python",
   "name": "python3"
  },
  "language_info": {
   "name": "python",
   "version": "3.12.3"
  }
 },
 "nbformat": 4,
 "nbformat_minor": 2
}
